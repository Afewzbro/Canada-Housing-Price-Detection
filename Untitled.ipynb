{
 "cells": [
  {
   "cell_type": "code",
   "execution_count": 1,
   "id": "07d4e065-b880-41e4-a5f1-afe68819fa4f",
   "metadata": {},
   "outputs": [
    {
     "name": "stdout",
     "output_type": "stream",
     "text": [
      "Collecting sklearn\n",
      "  Using cached sklearn-0.0.post12.tar.gz (2.6 kB)\n",
      "  Preparing metadata (setup.py) ... \u001b[?25lerror\n",
      "  \u001b[1;31merror\u001b[0m: \u001b[1msubprocess-exited-with-error\u001b[0m\n",
      "  \n",
      "  \u001b[31m×\u001b[0m \u001b[32mpython setup.py egg_info\u001b[0m did not run successfully.\n",
      "  \u001b[31m│\u001b[0m exit code: \u001b[1;36m1\u001b[0m\n",
      "  \u001b[31m╰─>\u001b[0m \u001b[31m[15 lines of output]\u001b[0m\n",
      "  \u001b[31m   \u001b[0m The 'sklearn' PyPI package is deprecated, use 'scikit-learn'\n",
      "  \u001b[31m   \u001b[0m rather than 'sklearn' for pip commands.\n",
      "  \u001b[31m   \u001b[0m \n",
      "  \u001b[31m   \u001b[0m Here is how to fix this error in the main use cases:\n",
      "  \u001b[31m   \u001b[0m - use 'pip install scikit-learn' rather than 'pip install sklearn'\n",
      "  \u001b[31m   \u001b[0m - replace 'sklearn' by 'scikit-learn' in your pip requirements files\n",
      "  \u001b[31m   \u001b[0m   (requirements.txt, setup.py, setup.cfg, Pipfile, etc ...)\n",
      "  \u001b[31m   \u001b[0m - if the 'sklearn' package is used by one of your dependencies,\n",
      "  \u001b[31m   \u001b[0m   it would be great if you take some time to track which package uses\n",
      "  \u001b[31m   \u001b[0m   'sklearn' instead of 'scikit-learn' and report it to their issue tracker\n",
      "  \u001b[31m   \u001b[0m - as a last resort, set the environment variable\n",
      "  \u001b[31m   \u001b[0m   SKLEARN_ALLOW_DEPRECATED_SKLEARN_PACKAGE_INSTALL=True to avoid this error\n",
      "  \u001b[31m   \u001b[0m \n",
      "  \u001b[31m   \u001b[0m More information is available at\n",
      "  \u001b[31m   \u001b[0m https://github.com/scikit-learn/sklearn-pypi-package\n",
      "  \u001b[31m   \u001b[0m \u001b[31m[end of output]\u001b[0m\n",
      "  \n",
      "  \u001b[1;35mnote\u001b[0m: This error originates from a subprocess, and is likely not a problem with pip.\n",
      "\u001b[1;31merror\u001b[0m: \u001b[1mmetadata-generation-failed\u001b[0m\n",
      "\n",
      "\u001b[31m×\u001b[0m Encountered error while generating package metadata.\n",
      "\u001b[31m╰─>\u001b[0m See above for output.\n",
      "\n",
      "\u001b[1;35mnote\u001b[0m: This is an issue with the package mentioned above, not pip.\n",
      "\u001b[1;36mhint\u001b[0m: See above for details.\n",
      "\u001b[?25hRequirement already satisfied: matplotlib in /home/testi/.virtualenvs/cadHousing/lib/python3.10/site-packages (3.8.2)\n",
      "Requirement already satisfied: contourpy>=1.0.1 in /home/testi/.virtualenvs/cadHousing/lib/python3.10/site-packages (from matplotlib) (1.2.0)\n",
      "Requirement already satisfied: cycler>=0.10 in /home/testi/.virtualenvs/cadHousing/lib/python3.10/site-packages (from matplotlib) (0.12.1)\n",
      "Requirement already satisfied: fonttools>=4.22.0 in /home/testi/.virtualenvs/cadHousing/lib/python3.10/site-packages (from matplotlib) (4.47.0)\n",
      "Requirement already satisfied: kiwisolver>=1.3.1 in /home/testi/.virtualenvs/cadHousing/lib/python3.10/site-packages (from matplotlib) (1.4.5)\n",
      "Requirement already satisfied: numpy<2,>=1.21 in /home/testi/.virtualenvs/cadHousing/lib/python3.10/site-packages (from matplotlib) (1.25.2)\n",
      "Requirement already satisfied: packaging>=20.0 in /home/testi/.virtualenvs/cadHousing/lib/python3.10/site-packages (from matplotlib) (23.2)\n",
      "Requirement already satisfied: pillow>=8 in /home/testi/.virtualenvs/cadHousing/lib/python3.10/site-packages (from matplotlib) (10.2.0)\n",
      "Requirement already satisfied: pyparsing>=2.3.1 in /home/testi/.virtualenvs/cadHousing/lib/python3.10/site-packages (from matplotlib) (3.1.1)\n",
      "Requirement already satisfied: python-dateutil>=2.7 in /home/testi/.virtualenvs/cadHousing/lib/python3.10/site-packages (from matplotlib) (2.8.2)\n",
      "Requirement already satisfied: six>=1.5 in /home/testi/.virtualenvs/cadHousing/lib/python3.10/site-packages (from python-dateutil>=2.7->matplotlib) (1.16.0)\n",
      "Requirement already satisfied: pandas==2.0.1 in /home/testi/.virtualenvs/cadHousing/lib/python3.10/site-packages (2.0.1)\n",
      "Requirement already satisfied: python-dateutil>=2.8.2 in /home/testi/.virtualenvs/cadHousing/lib/python3.10/site-packages (from pandas==2.0.1) (2.8.2)\n",
      "Requirement already satisfied: pytz>=2020.1 in /home/testi/.virtualenvs/cadHousing/lib/python3.10/site-packages (from pandas==2.0.1) (2023.3.post1)\n",
      "Requirement already satisfied: tzdata>=2022.1 in /home/testi/.virtualenvs/cadHousing/lib/python3.10/site-packages (from pandas==2.0.1) (2023.4)\n",
      "Requirement already satisfied: numpy>=1.21.0 in /home/testi/.virtualenvs/cadHousing/lib/python3.10/site-packages (from pandas==2.0.1) (1.25.2)\n",
      "Requirement already satisfied: six>=1.5 in /home/testi/.virtualenvs/cadHousing/lib/python3.10/site-packages (from python-dateutil>=2.8.2->pandas==2.0.1) (1.16.0)\n"
     ]
    }
   ],
   "source": [
    "!pip install sklearn\n",
    "!pip install matplotlib\n",
    "!pip install pandas==2.0.1"
   ]
  },
  {
   "cell_type": "code",
   "execution_count": 2,
   "id": "38349bc2-3e5a-4baf-9316-cde8cecd8b47",
   "metadata": {},
   "outputs": [
    {
     "name": "stdout",
     "output_type": "stream",
     "text": [
      "Package               Version\n",
      "--------------------- ------------\n",
      "annotated-types       0.6.0\n",
      "attrs                 23.2.0\n",
      "certifi               2023.11.17\n",
      "charset-normalizer    3.3.2\n",
      "contourpy             1.2.0\n",
      "cycler                0.12.1\n",
      "dacite                1.8.1\n",
      "fonttools             4.47.0\n",
      "htmlmin               0.1.12\n",
      "idna                  3.6\n",
      "ImageHash             4.3.1\n",
      "Jinja2                3.1.2\n",
      "joblib                1.3.2\n",
      "kiwisolver            1.4.5\n",
      "llvmlite              0.41.1\n",
      "MarkupSafe            2.1.3\n",
      "matplotlib            3.8.2\n",
      "multimethod           1.10\n",
      "networkx              3.2.1\n",
      "numba                 0.58.1\n",
      "numpy                 1.25.2\n",
      "packaging             23.2\n",
      "pandas                2.0.1\n",
      "pandas-profiling      3.6.6\n",
      "patsy                 0.5.6\n",
      "phik                  0.12.4\n",
      "pillow                10.2.0\n",
      "pip                   23.3.2\n",
      "pydantic              2.5.3\n",
      "pydantic_core         2.14.6\n",
      "pyparsing             3.1.1\n",
      "python-dateutil       2.8.2\n",
      "pytz                  2023.3.post1\n",
      "PyWavelets            1.5.0\n",
      "PyYAML                6.0.1\n",
      "requests              2.31.0\n",
      "scipy                 1.11.4\n",
      "seaborn               0.12.2\n",
      "setuptools            67.7.2\n",
      "six                   1.16.0\n",
      "statsmodels           0.14.1\n",
      "tangled-up-in-unicode 0.2.0\n",
      "tqdm                  4.66.1\n",
      "typeguard             4.1.5\n",
      "typing_extensions     4.9.0\n",
      "tzdata                2023.4\n",
      "urllib3               2.1.0\n",
      "visions               0.7.5\n",
      "wheel                 0.40.0\n",
      "wordcloud             1.9.3\n",
      "ydata-profiling       4.6.4\n"
     ]
    }
   ],
   "source": [
    "!pip list"
   ]
  },
  {
   "cell_type": "code",
   "execution_count": 6,
   "id": "a5557bfa-1a2c-41dc-9d5d-02a0acc0c2c7",
   "metadata": {},
   "outputs": [],
   "source": [
    "import numpy as np\n",
    "from sklearn.model_selection import train_test_split\n",
    "from sklearn.linear_model import LinearRegression\n",
    "import matplotlib.pyplot as plt\n",
    "from sklearn.metrics import mean_squared_error, r2_score\n",
    "\n",
    "\n"
   ]
  },
  {
   "cell_type": "code",
   "execution_count": 7,
   "id": "54f1ab16-e525-4dd2-9a0b-1460702e2225",
   "metadata": {},
   "outputs": [
    {
     "ename": "NameError",
     "evalue": "name 'pd' is not defined",
     "output_type": "error",
     "traceback": [
      "\u001b[0;31m---------------------------------------------------------------------------\u001b[0m",
      "\u001b[0;31mNameError\u001b[0m                                 Traceback (most recent call last)",
      "Cell \u001b[0;32mIn[7], line 3\u001b[0m\n\u001b[1;32m      1\u001b[0m \u001b[38;5;66;03m# Load the data from the uploaded file\u001b[39;00m\n\u001b[1;32m      2\u001b[0m file_path \u001b[38;5;241m=\u001b[39m \u001b[38;5;124m'\u001b[39m\u001b[38;5;124m/mnt/data/Seasonally Adjusted.xlsx\u001b[39m\u001b[38;5;124m'\u001b[39m\n\u001b[0;32m----> 3\u001b[0m data \u001b[38;5;241m=\u001b[39m \u001b[43mpd\u001b[49m\u001b[38;5;241m.\u001b[39mread_excel(file_path)\n\u001b[1;32m      5\u001b[0m \u001b[38;5;66;03m# Display the first few rows of the dataframe\u001b[39;00m\n\u001b[1;32m      6\u001b[0m data\u001b[38;5;241m.\u001b[39mhead()\n",
      "\u001b[0;31mNameError\u001b[0m: name 'pd' is not defined"
     ]
    }
   ],
   "source": [
    "# Load the data from the uploaded file\n",
    "file_path = '/mnt/data/Seasonally Adjusted.xlsx'\n",
    "data = pd.read_excel(file_path)\n",
    "\n",
    "# Display the first few rows of the dataframe\n",
    "data.head()\n"
   ]
  },
  {
   "cell_type": "code",
   "execution_count": null,
   "id": "cdffeb78-b90f-47d9-a479-5f24c71a44ec",
   "metadata": {},
   "outputs": [],
   "source": [
    "# Convert 'Date' to a numerical format\n",
    "data['Month_Number'] = (data['Date'].dt.year - data['Date'].dt.year.min()) * 12 + data['Date'].dt.month\n"
   ]
  },
  {
   "cell_type": "code",
   "execution_count": null,
   "id": "0293c07b-f6d9-49cf-b425-149074e26ecd",
   "metadata": {},
   "outputs": [],
   "source": [
    "# Define house types and their columns\n",
    "house_types = ['Composite', 'Single_Family', 'One_Storey', 'Two_Storey', 'Townhouse', 'Apartment']\n",
    "index_columns = [f'{ht}' for ht in house_types]\n",
    "benchmark_columns = [f'{ht}_BM' for ht in house_types]\n"
   ]
  },
  {
   "cell_type": "code",
   "execution_count": null,
   "id": "9aded8c2-a27e-417d-ab2f-daf4f7b3510e",
   "metadata": {},
   "outputs": [],
   "source": [
    "def train_and_evaluate_model(X_train, X_test, y_train, y_test, house_type, price_type):\n",
    "    # Train, predict, evaluate, and plot...\n"
   ]
  },
  {
   "cell_type": "code",
   "execution_count": null,
   "id": "3c9c290e-3f23-4790-a620-d1fb48f2bf85",
   "metadata": {},
   "outputs": [],
   "source": [
    "models = {}\n",
    "for house_type in house_types:\n",
    "    # Train and evaluate models for each type and category...\n"
   ]
  },
  {
   "cell_type": "code",
   "execution_count": null,
   "id": "aa45d73a-ec22-45d4-b24d-3df75dcd8bd6",
   "metadata": {},
   "outputs": [],
   "source": [
    "models_summary = {key: {'MSE': val['mse'], 'R2 Score': val['r2']} for key, val in models.items()}\n",
    "models_summary\n"
   ]
  },
  {
   "cell_type": "code",
   "execution_count": null,
   "id": "18cef774-205a-497f-8d4c-af5484ac3045",
   "metadata": {},
   "outputs": [],
   "source": [
    "def plot_price_to_year(data, house_types, index_columns, benchmark_columns):\n",
    "    plt.figure(figsize=(15, 10))\n",
    "    for i, house_type in enumerate(house_types):\n",
    "        plt.subplot(2, 3, i+1)\n",
    "        plt.plot(data['Date'], data[index_columns[i]], label='Index')\n",
    "        plt.plot(data['Date'], data[benchmark_columns[i]], label='Benchmark')\n",
    "        plt.title(house_type)\n",
    "        plt.xlabel('Year')\n",
    "        plt.ylabel('Price')\n",
    "        plt.legend()\n",
    "    plt.tight_layout()\n",
    "    plt.show()\n",
    "\n",
    "plot_price_to_year(data, house_types, index_columns, benchmark_columns)\n"
   ]
  },
  {
   "cell_type": "code",
   "execution_count": null,
   "id": "352882a2-ff2b-41ba-bf87-af533414eee8",
   "metadata": {},
   "outputs": [],
   "source": [
    "pd.plotting.scatter_matrix(data[house_types + benchmark_columns], figsize=(15, 15))\n",
    "plt.show()\n"
   ]
  },
  {
   "cell_type": "code",
   "execution_count": null,
   "id": "8257f682-a8a9-41fc-849c-0cec88600cbc",
   "metadata": {},
   "outputs": [],
   "source": [
    "def plot_eda_insights(data, house_types):\n",
    "    plt.figure(figsize=(15, 5))\n",
    "    for i, house_type in enumerate(house_types):\n",
    "        plt.plot(data['Date'], data[house_type], label=house_type)\n",
    "    plt.title('Price Index Trends Over Time')\n",
    "    plt.xlabel('Year')\n",
    "    plt.ylabel('Price Index')\n",
    "    plt.legend()\n",
    "    plt.show()\n",
    "\n",
    "plot_eda_insights(data, house_types)\n"
   ]
  },
  {
   "cell_type": "code",
   "execution_count": null,
   "id": "3fbf76ec-de55-4fa1-ad8f-e6e9a220dd0d",
   "metadata": {},
   "outputs": [],
   "source": [
    "def plot_value_per_price(data, house_types, index_columns, benchmark_columns):\n",
    "    plt.figure(figsize=(10, 6))\n",
    "    for house_type, index_col, bm_col in zip(house_types, index_columns, benchmark_columns):\n",
    "        value_per_price = data[index_col] / data[bm_col]\n",
    "        plt.plot(data['Date'], value_per_price, label=house_type)\n",
    "    plt.title('Value per Price Over Time by House Type')\n",
    "    plt.xlabel('Year')\n",
    "    plt.ylabel('Value per Price')\n",
    "    plt.legend()\n",
    "    plt.show()\n",
    "\n",
    "plot_value_per_price(data, house_types, index_columns, benchmark_columns)\n"
   ]
  }
 ],
 "metadata": {
  "kernelspec": {
   "display_name": "My Environment",
   "language": "python",
   "name": "yapayzeka"
  },
  "language_info": {
   "codemirror_mode": {
    "name": "ipython",
    "version": 3
   },
   "file_extension": ".py",
   "mimetype": "text/x-python",
   "name": "python",
   "nbconvert_exporter": "python",
   "pygments_lexer": "ipython3",
   "version": "3.10.12"
  }
 },
 "nbformat": 4,
 "nbformat_minor": 5
}
